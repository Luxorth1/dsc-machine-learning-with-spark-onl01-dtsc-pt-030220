{
 "cells": [
  {
   "cell_type": "markdown",
   "metadata": {},
   "source": [
    "# Machine Learning with Spark\n",
    "\n",
    "## Introduction\n",
    "\n",
    "You've now explored how to perform operations on Spark RDDs for simple MapReduce tasks. Luckily, there are far more advanced use cases for Spark, and many of them are found in the `ml` library, which we are going to explore in this lesson.\n",
    "\n",
    "\n",
    "## Objectives\n",
    "\n",
    "You will be able to: \n",
    "\n",
    "- Load and manipulate data using Spark DataFrames  \n",
    "- Define estimators and transformers in Spark ML \n",
    "- Create a Spark ML pipeline that transforms data and runs over a grid of hyperparameters \n",
    "\n",
    "\n",
    "\n",
    "## A Tale of Two Libraries\n",
    "\n",
    "If you look at the PySpark documentation, you'll notice that there are two different libraries for machine learning, [mllib](https://spark.apache.org/docs/latest/api/python/pyspark.mllib.html) and [ml](https://spark.apache.org/docs/latest/api/python/pyspark.ml.html). These libraries are extremely similar to one another, the only difference being that the `mllib` library is built upon the RDDs you just practiced using; whereas, the `ml` library is built on higher level Spark DataFrames, which has methods and attributes similar to pandas. Spark has stated that in the future, it is going to devote more effort to the `ml` library and that `mllib` will become deprecated. It's important to note that these libraries are much younger than pandas and scikit-learn and there are not as many features present in either.\n",
    "\n",
    "## Spark DataFrames\n",
    "\n",
    "In the previous lessons, you were introduced to SparkContext as the primary way to connect with a Spark Application. Here, we will be using SparkSession, which is from the [sql](https://spark.apache.org/docs/latest/api/python/pyspark.sql.html) component of PySpark. The SparkSession acts the same way as SparkContext; it is a bridge between Python and the Spark Application. It's just built on top of the Spark SQL API, a higher-level API than RDDs. In fact, a SparkContext object is spun up around which the SparkSession object is wrapped. Let's go through the process of manipulating some data here. For this example, we're going to be using the [Forest Fire dataset](https://archive.ics.uci.edu/ml/datasets/Forest+Fires) from UCI, which contains data about the area burned by wildfires in the Northeast region of Portugal in relation to numerous other factors.\n",
    "\n",
    "To begin with, let's create a SparkSession so that we can spin up our spark application. "
   ]
  },
  {
   "cell_type": "code",
   "execution_count": 34,
   "metadata": {},
   "outputs": [],
   "source": [
    "# importing the necessary libraries\n",
    "from pyspark import SparkContext\n",
    "from pyspark.sql import SparkSession\n",
    "# sc = SparkContext('local[*]')\n",
    "# spark = SparkSession(sc)"
   ]
  },
  {
   "cell_type": "markdown",
   "metadata": {},
   "source": [
    "To create a SparkSession: "
   ]
  },
  {
   "cell_type": "code",
   "execution_count": 35,
   "metadata": {},
   "outputs": [],
   "source": [
    "spark = SparkSession.builder.master('local').getOrCreate()"
   ]
  },
  {
   "cell_type": "markdown",
   "metadata": {},
   "source": [
    "Now, we'll load the data into a PySpark DataFrame: "
   ]
  },
  {
   "cell_type": "code",
   "execution_count": 36,
   "metadata": {},
   "outputs": [
    {
     "data": {
      "text/plain": [
       "pyspark.sql.dataframe.DataFrame"
      ]
     },
     "execution_count": 36,
     "metadata": {},
     "output_type": "execute_result"
    }
   ],
   "source": [
    "## reading in pyspark df\n",
    "spark_df = spark.read.csv('./forestfires.csv', header='true', inferSchema='true')\n",
    "\n",
    "## observing the datatype of df\n",
    "type(spark_df)"
   ]
  },
  {
   "cell_type": "markdown",
   "metadata": {},
   "source": [
    "You'll notice that some of the methods are extremely similar or the same as those found within Pandas."
   ]
  },
  {
   "cell_type": "code",
   "execution_count": 37,
   "metadata": {},
   "outputs": [
    {
     "data": {
      "text/plain": [
       "Row(X=7, Y=5, month='mar', day='fri', FFMC=86.2, DMC=26.2, DC=94.3, ISI=5.1, temp=8.2, RH=51, wind=6.7, rain=0.0, area=0.0)"
      ]
     },
     "execution_count": 37,
     "metadata": {},
     "output_type": "execute_result"
    }
   ],
   "source": [
    "spark_df.head()"
   ]
  },
  {
   "cell_type": "code",
   "execution_count": 38,
   "metadata": {},
   "outputs": [
    {
     "data": {
      "text/plain": [
       "['X',\n",
       " 'Y',\n",
       " 'month',\n",
       " 'day',\n",
       " 'FFMC',\n",
       " 'DMC',\n",
       " 'DC',\n",
       " 'ISI',\n",
       " 'temp',\n",
       " 'RH',\n",
       " 'wind',\n",
       " 'rain',\n",
       " 'area']"
      ]
     },
     "execution_count": 38,
     "metadata": {},
     "output_type": "execute_result"
    }
   ],
   "source": [
    "spark_df.columns"
   ]
  },
  {
   "cell_type": "markdown",
   "metadata": {},
   "source": [
    "Selecting multiple columns is similar as well: "
   ]
  },
  {
   "cell_type": "code",
   "execution_count": 39,
   "metadata": {},
   "outputs": [
    {
     "data": {
      "text/plain": [
       "DataFrame[month: string, day: string, rain: double]"
      ]
     },
     "execution_count": 39,
     "metadata": {},
     "output_type": "execute_result"
    }
   ],
   "source": [
    "spark_df[['month','day','rain']]"
   ]
  },
  {
   "cell_type": "markdown",
   "metadata": {},
   "source": [
    "But selecting one column is different. If you want to maintain the methods of a spark DataFrame, you should use the `.select()` method. If you want to just select the column, you can use the same method you would use in pandas (this is primarily what you would use if you're attempting to create a boolean mask). "
   ]
  },
  {
   "cell_type": "code",
   "execution_count": 40,
   "metadata": {
    "scrolled": true
   },
   "outputs": [],
   "source": [
    "d = spark_df.select('rain')"
   ]
  },
  {
   "cell_type": "code",
   "execution_count": 41,
   "metadata": {},
   "outputs": [
    {
     "data": {
      "text/plain": [
       "Column<b'rain'>"
      ]
     },
     "execution_count": 41,
     "metadata": {},
     "output_type": "execute_result"
    }
   ],
   "source": [
    "spark_df['rain']"
   ]
  },
  {
   "cell_type": "markdown",
   "metadata": {},
   "source": [
    "Let's take a look at all of our data types in this dataframe"
   ]
  },
  {
   "cell_type": "code",
   "execution_count": 42,
   "metadata": {},
   "outputs": [
    {
     "data": {
      "text/plain": [
       "[('X', 'int'),\n",
       " ('Y', 'int'),\n",
       " ('month', 'string'),\n",
       " ('day', 'string'),\n",
       " ('FFMC', 'double'),\n",
       " ('DMC', 'double'),\n",
       " ('DC', 'double'),\n",
       " ('ISI', 'double'),\n",
       " ('temp', 'double'),\n",
       " ('RH', 'int'),\n",
       " ('wind', 'double'),\n",
       " ('rain', 'double'),\n",
       " ('area', 'double')]"
      ]
     },
     "execution_count": 42,
     "metadata": {},
     "output_type": "execute_result"
    }
   ],
   "source": [
    "spark_df.dtypes"
   ]
  },
  {
   "cell_type": "markdown",
   "metadata": {},
   "source": [
    "## Aggregations with our DataFrame"
   ]
  },
  {
   "cell_type": "markdown",
   "metadata": {},
   "source": [
    "Let's investigate to see if there is any correlation between what month it is and the area of fire: "
   ]
  },
  {
   "cell_type": "code",
   "execution_count": 43,
   "metadata": {},
   "outputs": [
    {
     "data": {
      "text/plain": [
       "DataFrame[month: string, avg(area): double]"
      ]
     },
     "execution_count": 43,
     "metadata": {},
     "output_type": "execute_result"
    }
   ],
   "source": [
    "spark_df_months = spark_df.groupBy('month').agg({'area': 'mean'})\n",
    "spark_df_months"
   ]
  },
  {
   "cell_type": "markdown",
   "metadata": {},
   "source": [
    "Notice how the grouped DataFrame is not returned when you call the aggregation method. Remember, this is still Spark! The transformations and actions are kept separate so that it is easier to manage large quantities of data. You can perform the transformation by calling `.collect()`: "
   ]
  },
  {
   "cell_type": "code",
   "execution_count": 44,
   "metadata": {},
   "outputs": [
    {
     "data": {
      "text/plain": [
       "[Row(month='jun', avg(area)=5.841176470588234),\n",
       " Row(month='aug', avg(area)=12.489076086956521),\n",
       " Row(month='may', avg(area)=19.24),\n",
       " Row(month='feb', avg(area)=6.275),\n",
       " Row(month='sep', avg(area)=17.942616279069753),\n",
       " Row(month='mar', avg(area)=4.356666666666667),\n",
       " Row(month='oct', avg(area)=6.638),\n",
       " Row(month='jul', avg(area)=14.3696875),\n",
       " Row(month='nov', avg(area)=0.0),\n",
       " Row(month='apr', avg(area)=8.891111111111112),\n",
       " Row(month='dec', avg(area)=13.33),\n",
       " Row(month='jan', avg(area)=0.0)]"
      ]
     },
     "execution_count": 44,
     "metadata": {},
     "output_type": "execute_result"
    }
   ],
   "source": [
    "spark_df_months.collect()"
   ]
  },
  {
   "cell_type": "markdown",
   "metadata": {},
   "source": [
    "As you can see, there seem to be larger area fires during what would be considered the summer months in Portugal. On your own, practice more aggregations and manipulations that you might be able to perform on this dataset. "
   ]
  },
  {
   "cell_type": "markdown",
   "metadata": {},
   "source": [
    "## Boolean Masking \n",
    "\n",
    "Boolean masking also works with PySpark DataFrames just like Pandas DataFrames, the only difference being that the `.filter()` method is used in PySpark. To try this out, let's compare the amount of fire in those areas with absolutely no rain to those areas that had rain."
   ]
  },
  {
   "cell_type": "code",
   "execution_count": 45,
   "metadata": {},
   "outputs": [],
   "source": [
    "no_rain = spark_df.filter(spark_df['rain'] == 0.0)\n",
    "some_rain = spark_df.filter(spark_df['rain'] > 0.0)"
   ]
  },
  {
   "cell_type": "markdown",
   "metadata": {},
   "source": [
    "Now, to perform calculations to find the mean of a column, we'll have to import functions from `pyspark.sql`. As always, to read more about them, check out the [documentation](https://spark.apache.org/docs/latest/api/python/pyspark.sql.html#module-pyspark.sql.functions)."
   ]
  },
  {
   "cell_type": "code",
   "execution_count": 46,
   "metadata": {},
   "outputs": [
    {
     "name": "stdout",
     "output_type": "stream",
     "text": [
      "+------------------+\n",
      "|         avg(area)|\n",
      "+------------------+\n",
      "|13.023693516699408|\n",
      "+------------------+\n",
      "\n",
      "no rain fire area:  None \n",
      "\n",
      "+---------+\n",
      "|avg(area)|\n",
      "+---------+\n",
      "|  1.62375|\n",
      "+---------+\n",
      "\n",
      "some rain fire area:  None \n",
      "\n"
     ]
    }
   ],
   "source": [
    "from pyspark.sql.functions import mean\n",
    "\n",
    "print('no rain fire area: ', no_rain.select(mean('area')).show(),'\\n')\n",
    "\n",
    "print('some rain fire area: ', some_rain.select(mean('area')).show(),'\\n')"
   ]
  },
  {
   "cell_type": "markdown",
   "metadata": {},
   "source": [
    "Yes there's definitely something there! Unsurprisingly, rain plays in a big factor in the spread of wildfire.\n",
    "\n",
    "Let's obtain data from only the summer months in Portugal (June, July, and August). We can also do the same for the winter months in Portugal (December, January, February)."
   ]
  },
  {
   "cell_type": "code",
   "execution_count": 47,
   "metadata": {},
   "outputs": [
    {
     "name": "stdout",
     "output_type": "stream",
     "text": [
      "+------------------+\n",
      "|         avg(area)|\n",
      "+------------------+\n",
      "|12.262317596566525|\n",
      "+------------------+\n",
      "\n",
      "summer months fire area None\n",
      "+-----------------+\n",
      "|        avg(area)|\n",
      "+-----------------+\n",
      "|7.918387096774193|\n",
      "+-----------------+\n",
      "\n",
      "winter months fire areas None\n"
     ]
    }
   ],
   "source": [
    "summer_months = spark_df.filter(spark_df['month'].isin(['jun','jul','aug']))\n",
    "winter_months = spark_df.filter(spark_df['month'].isin(['dec','jan','feb']))\n",
    "\n",
    "print('summer months fire area', summer_months.select(mean('area')).show())\n",
    "print('winter months fire areas', winter_months.select(mean('area')).show())"
   ]
  },
  {
   "cell_type": "markdown",
   "metadata": {},
   "source": [
    "## Machine Learning\n",
    "\n",
    "Now that we've performed some data manipulation and aggregation, lets get to the really cool stuff, machine learning! PySpark states that they've used scikit-learn as an inspiration for their implementation of a machine learning library. As a result, many of the methods and functionalities look similar, but there are some crucial distinctions. There are three main concepts found within the ML library:\n",
    "\n",
    "`Transformer`: An algorithm that transforms one PySpark DataFrame into another DataFrame. \n",
    "\n",
    "`Estimator`: An algorithm that can be fit onto a PySpark DataFrame that can then be used as a Transformer. \n",
    "\n",
    "`Pipeline`: A pipeline very similar to an `sklearn` pipeline that chains together different actions.\n",
    "\n",
    "The reasoning behind this separation of the fitting and transforming step is because Spark is lazily evaluated, so the 'fitting' of a model does not actually take place until the Transformation action is called. Let's examine what this actually looks like by performing a regression on the Forest Fire dataset. To start off with, we'll import the necessary libraries for our tasks."
   ]
  },
  {
   "cell_type": "code",
   "execution_count": 48,
   "metadata": {},
   "outputs": [],
   "source": [
    "from pyspark.ml.regression import RandomForestRegressor\n",
    "from pyspark.ml import feature\n",
    "from pyspark.ml.feature import StringIndexer, VectorAssembler, OneHotEncoderEstimator"
   ]
  },
  {
   "cell_type": "markdown",
   "metadata": {},
   "source": [
    "Looking at our data, one can see that all the categories are numerical except for day and month. We saw some correlation between the month and area burned in a fire, so we will include that in our model. The day of the week, however, is highly unlikely to have any effect on fire, so we will drop it from the DataFrame."
   ]
  },
  {
   "cell_type": "code",
   "execution_count": 49,
   "metadata": {},
   "outputs": [
    {
     "data": {
      "text/plain": [
       "Row(X=7, Y=5, month='mar', FFMC=86.2, DMC=26.2, DC=94.3, ISI=5.1, temp=8.2, RH=51, wind=6.7, rain=0.0, area=0.0)"
      ]
     },
     "execution_count": 49,
     "metadata": {},
     "output_type": "execute_result"
    }
   ],
   "source": [
    "fire_df = spark_df.drop('day')\n",
    "fire_df.head()"
   ]
  },
  {
   "cell_type": "markdown",
   "metadata": {},
   "source": [
    "In order for us to run our model, we need to turn the months variable into a dummy variable. In `ml` this is a 2-step process that first requires turning the categorical variable into a numerical index (`StringIndexer`). Only after the variable is an integer can PySpark create dummy variable columns related to each category (`OneHotEncoderEstimator`). Your key parameters when using these `ml` estimators are: `inputCol` (the column you want to change) and `outputCol` (where you will store the changed column). Here it is in action: "
   ]
  },
  {
   "cell_type": "code",
   "execution_count": 50,
   "metadata": {},
   "outputs": [],
   "source": [
    "si = StringIndexer(inputCol='month', outputCol='month_num')\n",
    "model = si.fit(fire_df)\n",
    "new_df = model.transform(fire_df)"
   ]
  },
  {
   "cell_type": "markdown",
   "metadata": {},
   "source": [
    "Note the small, but critical distinction between `sklearn`'s implementation of a transformer and PySpark's implementation. `sklearn` is more object oriented and Spark is more functional oriented."
   ]
  },
  {
   "cell_type": "code",
   "execution_count": 51,
   "metadata": {},
   "outputs": [
    {
     "data": {
      "text/plain": [
       "pyspark.ml.feature.StringIndexer"
      ]
     },
     "execution_count": 51,
     "metadata": {},
     "output_type": "execute_result"
    }
   ],
   "source": [
    "## this is an estimator (an untrained transformer)\n",
    "type(si)"
   ]
  },
  {
   "cell_type": "code",
   "execution_count": 52,
   "metadata": {},
   "outputs": [
    {
     "data": {
      "text/plain": [
       "pyspark.ml.feature.StringIndexerModel"
      ]
     },
     "execution_count": 52,
     "metadata": {},
     "output_type": "execute_result"
    }
   ],
   "source": [
    "## this is a transformer (a trained transformer)\n",
    "type(model)"
   ]
  },
  {
   "cell_type": "code",
   "execution_count": 53,
   "metadata": {},
   "outputs": [
    {
     "data": {
      "text/plain": [
       "['aug',\n",
       " 'sep',\n",
       " 'mar',\n",
       " 'jul',\n",
       " 'feb',\n",
       " 'jun',\n",
       " 'oct',\n",
       " 'apr',\n",
       " 'dec',\n",
       " 'jan',\n",
       " 'may',\n",
       " 'nov']"
      ]
     },
     "execution_count": 53,
     "metadata": {},
     "output_type": "execute_result"
    }
   ],
   "source": [
    "model.labels"
   ]
  },
  {
   "cell_type": "code",
   "execution_count": 54,
   "metadata": {},
   "outputs": [
    {
     "data": {
      "text/plain": [
       "[Row(X=7, Y=5, month='mar', FFMC=86.2, DMC=26.2, DC=94.3, ISI=5.1, temp=8.2, RH=51, wind=6.7, rain=0.0, area=0.0, month_num=2.0),\n",
       " Row(X=7, Y=4, month='oct', FFMC=90.6, DMC=35.4, DC=669.1, ISI=6.7, temp=18.0, RH=33, wind=0.9, rain=0.0, area=0.0, month_num=6.0),\n",
       " Row(X=7, Y=4, month='oct', FFMC=90.6, DMC=43.7, DC=686.9, ISI=6.7, temp=14.6, RH=33, wind=1.3, rain=0.0, area=0.0, month_num=6.0),\n",
       " Row(X=8, Y=6, month='mar', FFMC=91.7, DMC=33.3, DC=77.5, ISI=9.0, temp=8.3, RH=97, wind=4.0, rain=0.2, area=0.0, month_num=2.0)]"
      ]
     },
     "execution_count": 54,
     "metadata": {},
     "output_type": "execute_result"
    }
   ],
   "source": [
    "new_df.head(4)"
   ]
  },
  {
   "cell_type": "markdown",
   "metadata": {},
   "source": [
    "As you can see, we have created a new column called `'month_num'` that represents the month by a number. Now that we have performed this step, we can use Spark's version of `OneHotEncoder()` - `OneHotEncoderEstimator()`. Let's make sure we have an accurate representation of the months."
   ]
  },
  {
   "cell_type": "code",
   "execution_count": 55,
   "metadata": {},
   "outputs": [
    {
     "data": {
      "text/plain": [
       "[Row(month_num=8.0),\n",
       " Row(month_num=0.0),\n",
       " Row(month_num=7.0),\n",
       " Row(month_num=1.0),\n",
       " Row(month_num=4.0),\n",
       " Row(month_num=11.0),\n",
       " Row(month_num=3.0),\n",
       " Row(month_num=2.0),\n",
       " Row(month_num=10.0),\n",
       " Row(month_num=6.0),\n",
       " Row(month_num=5.0),\n",
       " Row(month_num=9.0)]"
      ]
     },
     "execution_count": 55,
     "metadata": {},
     "output_type": "execute_result"
    }
   ],
   "source": [
    "new_df.select('month_num').distinct().collect()"
   ]
  },
  {
   "cell_type": "code",
   "execution_count": 56,
   "metadata": {},
   "outputs": [
    {
     "data": {
      "text/plain": [
       "Row(X=7, Y=5, month='mar', FFMC=86.2, DMC=26.2, DC=94.3, ISI=5.1, temp=8.2, RH=51, wind=6.7, rain=0.0, area=0.0, month_num=2.0, month_vec=SparseVector(11, {2: 1.0}))"
      ]
     },
     "execution_count": 56,
     "metadata": {},
     "output_type": "execute_result"
    }
   ],
   "source": [
    "## fitting and transforming the OneHotEncoderEstimator\n",
    "ohe = feature.OneHotEncoderEstimator(inputCols=['month_num'], outputCols=['month_vec'], dropLast=True)\n",
    "one_hot_encoded = ohe.fit(new_df).transform(new_df)\n",
    "one_hot_encoded.head()"
   ]
  },
  {
   "cell_type": "markdown",
   "metadata": {},
   "source": [
    "Great, we now have a OneHotEncoded sparse vector in the `'month_vec'` column! Because Spark is optimized for big data, sparse vectors are used rather than entirely new columns for dummy variables because it is more space efficient. You can see in this first row of the DataFrame:  \n",
    "\n",
    "`month_vec=SparseVector(11, {2: 1.0})` this indicates that we have a sparse vector of size 11 (because of the parameter `dropLast = True` in `OneHotEncoderEstimator()`) and this particular data point is the 2nd index of our month labels (march, based off the labels in the `model` StringEstimator transformer).  \n",
    "\n",
    "The final requirement for all machine learning models in PySpark is to put all of the features of your model into one sparse vector. This is once again for efficiency sake. Here, we are doing that with the `VectorAssembler()` estimator."
   ]
  },
  {
   "cell_type": "code",
   "execution_count": 57,
   "metadata": {},
   "outputs": [],
   "source": [
    "features = ['X',\n",
    " 'Y',\n",
    " 'FFMC',\n",
    " 'DMC',\n",
    " 'DC',\n",
    " 'ISI',\n",
    " 'temp',\n",
    " 'RH',\n",
    " 'wind',\n",
    " 'rain',\n",
    " 'month_vec']\n",
    "\n",
    "target = 'area'\n",
    "\n",
    "vector = VectorAssembler(inputCols=features, outputCol='features')\n",
    "vectorized_df = vector.transform(one_hot_encoded)"
   ]
  },
  {
   "cell_type": "code",
   "execution_count": 58,
   "metadata": {},
   "outputs": [
    {
     "data": {
      "text/plain": [
       "Row(X=7, Y=5, month='mar', FFMC=86.2, DMC=26.2, DC=94.3, ISI=5.1, temp=8.2, RH=51, wind=6.7, rain=0.0, area=0.0, month_num=2.0, month_vec=SparseVector(11, {2: 1.0}), features=SparseVector(21, {0: 7.0, 1: 5.0, 2: 86.2, 3: 26.2, 4: 94.3, 5: 5.1, 6: 8.2, 7: 51.0, 8: 6.7, 12: 1.0}))"
      ]
     },
     "execution_count": 58,
     "metadata": {},
     "output_type": "execute_result"
    }
   ],
   "source": [
    "vectorized_df.head()"
   ]
  },
  {
   "cell_type": "markdown",
   "metadata": {},
   "source": [
    "Great! We now have our data in a format that seems acceptable for the last step. It's time for us to actually fit our model to data! Let's fit a Random Forest Regression model to our data. Although there are still a bunch of other features in the DataFrame, it doesn't matter for the machine learning model API. All that needs to be specified are the names of the features column and the label column. "
   ]
  },
  {
   "cell_type": "code",
   "execution_count": 59,
   "metadata": {},
   "outputs": [],
   "source": [
    "## instantiating and fitting the model\n",
    "rf_model = RandomForestRegressor(featuresCol='features', \n",
    "                                 labelCol='area', predictionCol='prediction').fit(vectorized_df)"
   ]
  },
  {
   "cell_type": "code",
   "execution_count": 60,
   "metadata": {},
   "outputs": [
    {
     "data": {
      "text/plain": [
       "SparseVector(21, {0: 0.0771, 1: 0.0604, 2: 0.1731, 3: 0.1192, 4: 0.0932, 5: 0.0264, 6: 0.1571, 7: 0.1033, 8: 0.1087, 10: 0.0037, 11: 0.0378, 13: 0.0384, 14: 0.0001, 16: 0.0011, 17: 0.0003, 18: 0.0, 20: 0.0})"
      ]
     },
     "execution_count": 60,
     "metadata": {},
     "output_type": "execute_result"
    }
   ],
   "source": [
    "rf_model.featureImportances"
   ]
  },
  {
   "cell_type": "code",
   "execution_count": 61,
   "metadata": {},
   "outputs": [
    {
     "data": {
      "text/plain": [
       "[Row(area=0.0, prediction=6.254314085704378),\n",
       " Row(area=0.0, prediction=4.854127448053529),\n",
       " Row(area=0.0, prediction=4.540763523556911),\n",
       " Row(area=0.0, prediction=4.2267296514489985),\n",
       " Row(area=0.0, prediction=3.0784276294041364),\n",
       " Row(area=0.0, prediction=12.95456372543731),\n",
       " Row(area=0.0, prediction=8.004140462491483),\n",
       " Row(area=0.0, prediction=5.568829427064619),\n",
       " Row(area=0.0, prediction=7.606891165809904),\n",
       " Row(area=0.0, prediction=8.160257975053263)]"
      ]
     },
     "execution_count": 61,
     "metadata": {},
     "output_type": "execute_result"
    }
   ],
   "source": [
    "## generating predictions\n",
    "predictions = rf_model.transform(vectorized_df).select('area', 'prediction')\n",
    "predictions.head(10)"
   ]
  },
  {
   "cell_type": "markdown",
   "metadata": {},
   "source": [
    "Now we can evaluate how well the model performed using `RegressionEvaluator`."
   ]
  },
  {
   "cell_type": "code",
   "execution_count": 62,
   "metadata": {},
   "outputs": [],
   "source": [
    "from pyspark.ml.evaluation import RegressionEvaluator\n",
    "evaluator = RegressionEvaluator(predictionCol='prediction', labelCol='area')"
   ]
  },
  {
   "cell_type": "code",
   "execution_count": 63,
   "metadata": {},
   "outputs": [
    {
     "data": {
      "text/plain": [
       "0.7283360449883588"
      ]
     },
     "execution_count": 63,
     "metadata": {},
     "output_type": "execute_result"
    }
   ],
   "source": [
    "## evaluating r^2\n",
    "evaluator.evaluate(predictions,{evaluator.metricName: 'r2'})"
   ]
  },
  {
   "cell_type": "code",
   "execution_count": 64,
   "metadata": {},
   "outputs": [
    {
     "data": {
      "text/plain": [
       "13.176946316187736"
      ]
     },
     "execution_count": 64,
     "metadata": {},
     "output_type": "execute_result"
    }
   ],
   "source": [
    "## evaluating mean absolute error\n",
    "evaluator.evaluate(predictions,{evaluator.metricName: 'mae'})"
   ]
  },
  {
   "cell_type": "markdown",
   "metadata": {},
   "source": [
    "## Putting it all in a Pipeline\n",
    "\n",
    "We just performed a whole lot of transformations to our data. Let's take a look at all the estimators we used to create this model:\n",
    "\n",
    "* `StringIndexer()` \n",
    "* `OneHotEnconderEstimator()` \n",
    "* `VectorAssembler()` \n",
    "* `RandomForestRegressor()` \n",
    "\n",
    "Once we've fit our model in the Pipeline, we're then going to want to evaluate it to determine how well it performs. We can do this with:\n",
    "\n",
    "* `RegressionEvaluator()` \n",
    "\n",
    "We can streamline all of these transformations to make it much more efficient by chaining them together in a pipeline. The Pipeline object expects a list of the estimators prior set to the parameter `stages`."
   ]
  },
  {
   "cell_type": "code",
   "execution_count": 65,
   "metadata": {},
   "outputs": [],
   "source": [
    "# importing relevant libraries\n",
    "from pyspark.ml.tuning import ParamGridBuilder, TrainValidationSplit, CrossValidator\n",
    "from pyspark.ml import Pipeline"
   ]
  },
  {
   "cell_type": "code",
   "execution_count": 66,
   "metadata": {},
   "outputs": [],
   "source": [
    "## instantiating all necessary estimator objects\n",
    "\n",
    "string_indexer = StringIndexer(inputCol='month', outputCol='month_num', handleInvalid='keep')\n",
    "one_hot_encoder = OneHotEncoderEstimator(inputCols=['month_num'], outputCols=['month_vec'], dropLast=True)\n",
    "vector_assember = VectorAssembler(inputCols=features, outputCol='features')\n",
    "random_forest = RandomForestRegressor(featuresCol='features', labelCol='area')\n",
    "stages = [string_indexer, one_hot_encoder, vector_assember, random_forest]\n",
    "\n",
    "# instantiating the pipeline with all them estimator objects\n",
    "pipeline = Pipeline(stages=stages)"
   ]
  },
  {
   "cell_type": "markdown",
   "metadata": {},
   "source": [
    "### Cross-validation \n",
    "\n",
    "You might have missed a critical step in the random forest regression above; we did not cross validate or perform a train/test split! Now we're going to fix that by performing cross-validation and also testing out multiple different combinations of parameters in PySpark's `GridSearch()` equivalent. To begin with, we will create a parameter grid that contains the different parameters we want to use in our model."
   ]
  },
  {
   "cell_type": "code",
   "execution_count": 69,
   "metadata": {},
   "outputs": [],
   "source": [
    "# creating parameter grid\n",
    "\n",
    "params = ParamGridBuilder().addGrid(random_forest.maxDepth, [5, 10, 15]).addGrid(random_forest.numTrees, [20 ,50, 100]).build()"
   ]
  },
  {
   "cell_type": "markdown",
   "metadata": {},
   "source": [
    "Let's take a look at the params variable we just built."
   ]
  },
  {
   "cell_type": "code",
   "execution_count": 70,
   "metadata": {},
   "outputs": [
    {
     "name": "stdout",
     "output_type": "stream",
     "text": [
      "total combinations of parameters:  9\n"
     ]
    },
    {
     "data": {
      "text/plain": [
       "{Param(parent='RandomForestRegressor_1e6b2d51e6ce', name='maxDepth', doc='Maximum depth of the tree. (>= 0) E.g., depth 0 means 1 leaf node; depth 1 means 1 internal node + 2 leaf nodes.'): 5,\n",
       " Param(parent='RandomForestRegressor_1e6b2d51e6ce', name='numTrees', doc='Number of trees to train (>= 1).'): 20}"
      ]
     },
     "execution_count": 70,
     "metadata": {},
     "output_type": "execute_result"
    }
   ],
   "source": [
    "print('total combinations of parameters: ', len(params))\n",
    "\n",
    "params[0]"
   ]
  },
  {
   "cell_type": "markdown",
   "metadata": {},
   "source": [
    "Now it's time to combine all the steps we've created to work in a single line of code with the `CrossValidator()` estimator."
   ]
  },
  {
   "cell_type": "code",
   "execution_count": 71,
   "metadata": {},
   "outputs": [],
   "source": [
    "## instantiating the evaluator by which we will measure our model's performance\n",
    "reg_evaluator = RegressionEvaluator(predictionCol='prediction', labelCol='area', metricName = 'mae')\n",
    "\n",
    "## instantiating crossvalidator estimator\n",
    "cv = CrossValidator(estimator=pipeline, estimatorParamMaps=params, evaluator=reg_evaluator, parallelism=4)"
   ]
  },
  {
   "cell_type": "code",
   "execution_count": 72,
   "metadata": {},
   "outputs": [],
   "source": [
    "## fitting crossvalidator\n",
    "cross_validated_model = cv.fit(fire_df)"
   ]
  },
  {
   "cell_type": "markdown",
   "metadata": {},
   "source": [
    "Now, let's see how well the model performed! Let's take a look at the average performance for each one of our 9 models. It looks like the optimal performance is an MAE around 23. Note that this is worse than our original model, but that's because our original model had substantial data leakage. We didn't do a train-test split!"
   ]
  },
  {
   "cell_type": "code",
   "execution_count": 73,
   "metadata": {
    "scrolled": true
   },
   "outputs": [
    {
     "data": {
      "text/plain": [
       "[22.472711144298334,\n",
       " 23.06052761395812,\n",
       " 22.80473242728771,\n",
       " 23.317273422328753,\n",
       " 23.67933605946845,\n",
       " 23.69768819886508,\n",
       " 23.388698774252656,\n",
       " 23.786141918222118,\n",
       " 23.78748494220124]"
      ]
     },
     "execution_count": 73,
     "metadata": {},
     "output_type": "execute_result"
    }
   ],
   "source": [
    "cross_validated_model.avgMetrics"
   ]
  },
  {
   "cell_type": "markdown",
   "metadata": {},
   "source": [
    "Now, let's take a look at the optimal parameters of our best performing model. The `cross_validated_model` variable is now saved as the best performing model from the grid search just performed. Let's look to see how well the predictions performed. As you can see, this dataset has a large number of areas of \"0.0\" burned. Perhaps, it would be better to investigate this problem as a classification task."
   ]
  },
  {
   "cell_type": "code",
   "execution_count": 74,
   "metadata": {},
   "outputs": [
    {
     "name": "stdout",
     "output_type": "stream",
     "text": [
      "+------------------+-------+\n",
      "|        prediction|   area|\n",
      "+------------------+-------+\n",
      "| 7.146571212001052|    0.0|\n",
      "|7.4104513639931255|    0.0|\n",
      "| 6.418072386720399|    0.0|\n",
      "| 6.915817905186708|    0.0|\n",
      "| 5.851873406290226|    0.0|\n",
      "|19.293854443677766|    0.0|\n",
      "| 9.850041180415419|    0.0|\n",
      "| 6.911900770584305|    0.0|\n",
      "| 16.75051911563403|    0.0|\n",
      "| 7.058271818421874|    0.0|\n",
      "| 7.026581883124547|    0.0|\n",
      "| 7.092077281739596|    0.0|\n",
      "| 7.317064905391422|    0.0|\n",
      "| 8.802150046655893|    0.0|\n",
      "| 70.95915085703139|    0.0|\n",
      "| 6.157146511810584|    0.0|\n",
      "| 22.15014325251638|    0.0|\n",
      "|21.408086237608465|    0.0|\n",
      "| 4.545217894405067|    0.0|\n",
      "| 5.657623024109731|    0.0|\n",
      "| 11.72806837026469|    0.0|\n",
      "|  3.85327359482064|    0.0|\n",
      "| 7.576733587860135|    0.0|\n",
      "| 7.798208871827109|    0.0|\n",
      "| 8.772792227204247|    0.0|\n",
      "| 5.117227157398409|    0.0|\n",
      "| 7.784819144522855|    0.0|\n",
      "| 7.854378871622464|    0.0|\n",
      "|11.021417920523453|    0.0|\n",
      "| 8.234365424070369|    0.0|\n",
      "| 5.684425176575064|    0.0|\n",
      "|6.2358246745372075|    0.0|\n",
      "| 5.308274154426546|    0.0|\n",
      "| 4.813865686077454|    0.0|\n",
      "| 4.417647374794657|    0.0|\n",
      "| 6.235955239365425|    0.0|\n",
      "|11.159033470115995|    0.0|\n",
      "| 6.113277029510341|    0.0|\n",
      "| 7.270338829508977|    0.0|\n",
      "| 4.337171453122889|    0.0|\n",
      "|18.201017443934102|    0.0|\n",
      "| 4.407361144372775|    0.0|\n",
      "| 5.078798666243123|    0.0|\n",
      "| 4.781919889969228|    0.0|\n",
      "| 5.501405748979975|    0.0|\n",
      "| 4.343593963741033|    0.0|\n",
      "| 5.245460580862328|    0.0|\n",
      "| 4.845198147034937|    0.0|\n",
      "| 4.337171453122889|    0.0|\n",
      "| 6.441563623757636|    0.0|\n",
      "|15.499025045004771|    0.0|\n",
      "|  5.34070696202371|    0.0|\n",
      "| 5.096308278675705|    0.0|\n",
      "| 5.096308278675705|    0.0|\n",
      "|5.0045053356406735|    0.0|\n",
      "|19.406198934931556|    0.0|\n",
      "| 5.545850429949893|    0.0|\n",
      "| 4.156389917633286|    0.0|\n",
      "| 6.715128358060336|    0.0|\n",
      "| 7.002774084003036|    0.0|\n",
      "|3.1230866968350854|    0.0|\n",
      "|3.6183269652823697|    0.0|\n",
      "| 4.586523876826025|    0.0|\n",
      "| 3.673012095531501|    0.0|\n",
      "| 3.499878914679127|    0.0|\n",
      "|10.003281759660979|    0.0|\n",
      "| 17.86375397576015|    0.0|\n",
      "|17.697394593429856|    0.0|\n",
      "| 18.98696364311451|    0.0|\n",
      "|  5.08154102117643|    0.0|\n",
      "| 23.51800369114732|    0.0|\n",
      "| 5.031264833475577|    0.0|\n",
      "|4.2948682574070585|    0.0|\n",
      "| 6.829062787404173|    0.0|\n",
      "|45.733394271686485|    0.0|\n",
      "| 5.287395686438339|    0.0|\n",
      "| 4.298758280766761|    0.0|\n",
      "| 4.823338814730937|    0.0|\n",
      "| 7.115461849655236|    0.0|\n",
      "|  8.21597667713894|    0.0|\n",
      "| 7.781989787069411|    0.0|\n",
      "| 9.207895815992286|    0.0|\n",
      "|  9.57976232735372|    0.0|\n",
      "|15.989130265938162|    0.0|\n",
      "| 7.793984611827487|    0.0|\n",
      "| 17.77312428386415|    0.0|\n",
      "| 15.89024876444285|    0.0|\n",
      "|24.746755014712768|    0.0|\n",
      "|15.298093814437442|    0.0|\n",
      "| 5.132771775000661|    0.0|\n",
      "| 4.749827229524593|    0.0|\n",
      "| 5.094966691735005|    0.0|\n",
      "| 8.244574529310064|    0.0|\n",
      "|10.702587709460953|    0.0|\n",
      "|  8.77148927839353|    0.0|\n",
      "| 4.972219600150291|    0.0|\n",
      "| 4.229165820462013|    0.0|\n",
      "| 6.189599614576763|    0.0|\n",
      "| 5.200250993242717|    0.0|\n",
      "| 7.094997652984992|    0.0|\n",
      "| 7.094997652984992|    0.0|\n",
      "| 7.589761688663414|    0.0|\n",
      "| 6.111435961398259|    0.0|\n",
      "| 21.70298135442613|    0.0|\n",
      "| 6.033465965674592|    0.0|\n",
      "|  4.94399265283792|    0.0|\n",
      "| 4.413111449910003|    0.0|\n",
      "| 5.017572773874766|    0.0|\n",
      "|    5.101450137531|    0.0|\n",
      "| 4.639193604115232|    0.0|\n",
      "| 5.966569520451033|    0.0|\n",
      "|  4.91630391857379|    0.0|\n",
      "|5.7826123284130615|    0.0|\n",
      "| 5.380060213559044|    0.0|\n",
      "| 5.523706119788467|    0.0|\n",
      "|22.738865968273313|    0.0|\n",
      "| 4.573898483047605|    0.0|\n",
      "| 5.551735406331681|    0.0|\n",
      "| 4.869230989248537|    0.0|\n",
      "|  3.91282041815579|    0.0|\n",
      "| 6.153435962440186|    0.0|\n",
      "| 6.700914188998423|    0.0|\n",
      "|7.3140893684100945|    0.0|\n",
      "| 5.533215400608072|    0.0|\n",
      "| 5.467366163131042|    0.0|\n",
      "| 5.007475815043858|    0.0|\n",
      "| 4.480581454256971|    0.0|\n",
      "| 8.268547090777536|    0.0|\n",
      "| 4.656545558095909|    0.0|\n",
      "| 3.940068734741452|    0.0|\n",
      "| 5.240909389117051|    0.0|\n",
      "| 4.449513270518744|    0.0|\n",
      "|3.8608286467390487|    0.0|\n",
      "| 4.981487548955057|    0.0|\n",
      "|3.9470201850069473|    0.0|\n",
      "|5.2578841609270714|    0.0|\n",
      "| 6.654471579339725|    0.0|\n",
      "|    4.991394895952|    0.0|\n",
      "|31.465661066437992|   0.36|\n",
      "|21.888949824892624|   0.43|\n",
      "| 8.187308154508468|   0.47|\n",
      "| 4.325671107921157|   0.55|\n",
      "| 8.995600230973407|   0.61|\n",
      "|2.9323656650373184|   0.71|\n",
      "|  5.49492542441799|   0.77|\n",
      "| 6.525853249750544|    0.9|\n",
      "| 5.138696856940713|   0.95|\n",
      "| 8.625169583694888|   0.96|\n",
      "| 4.954056006717059|   1.07|\n",
      "| 9.400672977463419|   1.12|\n",
      "| 4.381712269613563|   1.19|\n",
      "| 8.991077096109674|   1.36|\n",
      "| 4.247406942387937|   1.43|\n",
      "| 6.029074380398621|   1.46|\n",
      "|160.31055683486076|   1.46|\n",
      "| 4.937985653289626|   1.56|\n",
      "|  65.0016990665105|   1.61|\n",
      "| 7.680308154127291|   1.63|\n",
      "| 4.315999686990827|   1.64|\n",
      "| 7.784819144522855|   1.69|\n",
      "|  6.69482250655314|   1.75|\n",
      "| 6.270808158407254|    1.9|\n",
      "| 5.756986876036608|   1.94|\n",
      "| 9.875774505806518|   1.95|\n",
      "| 6.108065846663447|   2.01|\n",
      "|6.6700888246384675|   2.14|\n",
      "|3.4928200175828032|   2.29|\n",
      "| 6.071419906954901|   2.51|\n",
      "|  8.53651470882958|   2.53|\n",
      "| 8.134932707640534|   2.55|\n",
      "| 6.946082940823966|   2.57|\n",
      "| 6.907481039500364|   2.69|\n",
      "|6.5758240938780235|   2.74|\n",
      "|10.786077488618078|   3.07|\n",
      "| 4.237433306071873|    3.5|\n",
      "| 4.851756023152913|   4.53|\n",
      "|  9.94935683331279|   4.61|\n",
      "|5.5905068386360925|   4.69|\n",
      "| 9.541706415469282|   4.88|\n",
      "|  5.96546145351749|   5.23|\n",
      "| 7.666792720783778|   5.33|\n",
      "|  8.42714577064066|   5.44|\n",
      "| 4.385197905348342|   6.38|\n",
      "| 8.956283667644197|   6.83|\n",
      "| 6.196059410121283|   6.96|\n",
      "| 8.569450502605097|   7.04|\n",
      "|  6.47362010763406|   7.19|\n",
      "|15.417941478917783|    7.3|\n",
      "| 4.852813657661937|    7.4|\n",
      "| 6.916863576013691|   8.24|\n",
      "| 6.080105980680633|   8.31|\n",
      "| 6.511983132050823|   8.68|\n",
      "| 5.569731061500826|   8.71|\n",
      "| 16.09495012304268|   9.41|\n",
      "| 5.569731061500826|  10.01|\n",
      "|6.2453155480963085|  10.02|\n",
      "|  9.94935683331279|  10.93|\n",
      "|16.972010045004772|  11.06|\n",
      "| 6.849404899433871|  11.24|\n",
      "| 6.351057085661408|  11.32|\n",
      "|  25.1913218969647|  11.53|\n",
      "| 5.079303728796499|   12.1|\n",
      "| 5.853511294509904|  13.05|\n",
      "| 7.285759820873824|   13.7|\n",
      "| 5.000722441311828|  13.99|\n",
      "|10.574473115866315|  14.57|\n",
      "| 9.179747401489152|  15.45|\n",
      "|13.170528224582123|   17.2|\n",
      "| 7.632759001546338|  19.23|\n",
      "|10.718896462311905|  23.41|\n",
      "| 8.382089597971774|  24.23|\n",
      "| 10.25791842359925|   26.0|\n",
      "| 8.009272329110086|  26.13|\n",
      "| 9.425132694998778|  27.35|\n",
      "| 6.171428569116692|  28.66|\n",
      "| 6.171428569116692|  28.66|\n",
      "| 5.361277577185398|  29.48|\n",
      "| 5.130622453913887|  30.32|\n",
      "| 22.56453779412481|  31.72|\n",
      "| 6.274036230511667|  31.86|\n",
      "|11.554775210977038|  32.07|\n",
      "| 7.978415581180194|  35.88|\n",
      "| 8.551698492178687|  36.85|\n",
      "| 31.38527085082569|  37.02|\n",
      "| 6.992532686693798|  37.71|\n",
      "| 8.433036157599505|  48.55|\n",
      "| 8.671003647664179|  49.37|\n",
      "|14.766366114009898|   58.3|\n",
      "|24.087844340439467|   64.1|\n",
      "|15.329794049416913|   71.3|\n",
      "|30.135023538106157|  88.49|\n",
      "|177.06699290965548|  95.18|\n",
      "|13.459747962101426| 103.39|\n",
      "|53.689041883639014| 105.66|\n",
      "| 51.38194139993017| 154.88|\n",
      "|22.465641634441692| 196.48|\n",
      "| 74.69900370257065| 200.94|\n",
      "| 65.59711080946919| 212.88|\n",
      "| 705.4421630667747|1090.84|\n",
      "| 7.363623077530804|    0.0|\n",
      "| 4.662751157228041|    0.0|\n",
      "| 14.98148097935786|    0.0|\n",
      "| 4.778105841833697|  10.13|\n",
      "| 9.783782265007803|    0.0|\n",
      "| 5.677457730844593|   2.87|\n",
      "| 45.87043597398926|   0.76|\n",
      "|  4.53246515711147|   0.09|\n",
      "| 6.707682264254433|   0.75|\n",
      "| 5.991040553666094|    0.0|\n",
      "| 5.537486896421631|   2.47|\n",
      "| 7.089633808539238|   0.68|\n",
      "| 5.301887864000713|   0.24|\n",
      "| 5.208757362883851|   0.21|\n",
      "| 4.849932037628337|   1.52|\n",
      "|  11.0292711252343|  10.34|\n",
      "| 5.816746283012604|    0.0|\n",
      "| 9.399743020662163|   8.02|\n",
      "|5.9151981399388545|   0.68|\n",
      "| 4.873688999328936|    0.0|\n",
      "| 5.629749901540579|   1.38|\n",
      "|5.4386733288360825|   8.85|\n",
      "|3.8043126562123364|    3.3|\n",
      "| 5.560032275149757|   4.25|\n",
      "| 6.749506413393116|   1.56|\n",
      "| 5.623065299619909|   6.54|\n",
      "| 5.958330680646354|   0.79|\n",
      "| 6.802160330483322|   0.17|\n",
      "| 4.914514990359111|    0.0|\n",
      "|  5.37312610405551|    0.0|\n",
      "| 5.783000928283935|    4.4|\n",
      "| 8.965594050513666|   0.52|\n",
      "| 8.448917478219034|   9.27|\n",
      "| 5.487974514573958|   3.09|\n",
      "| 8.800644495714838|   8.98|\n",
      "| 9.524199216836871|  11.19|\n",
      "| 7.419153215734296|   5.38|\n",
      "|12.433736115630039|  17.85|\n",
      "|11.427765383922722|  10.73|\n",
      "|12.433736115630039|  22.03|\n",
      "|12.433736115630039|   9.77|\n",
      "| 8.056707435395133|   9.27|\n",
      "|11.280221775803199|  24.77|\n",
      "| 6.580059182835702|    0.0|\n",
      "| 4.488596883530909|    1.1|\n",
      "| 8.793784713961283|  24.24|\n",
      "| 6.106027694050114|    0.0|\n",
      "| 4.939708258908918|    0.0|\n",
      "| 4.662172538813037|    0.0|\n",
      "| 6.315410955589339|    0.0|\n",
      "| 9.607964813496137|    0.0|\n",
      "| 6.388369495646591|    0.0|\n",
      "| 68.29361315417643|    8.0|\n",
      "|18.610080894804867|   2.64|\n",
      "| 49.75672168704159|  86.45|\n",
      "|10.005122954821116|   6.57|\n",
      "|14.953267500253085|    0.0|\n",
      "| 4.521519791379346|    0.9|\n",
      "|10.881725873900082|    0.0|\n",
      "|12.478670818489439|    0.0|\n",
      "| 5.445916071052276|    0.0|\n",
      "+------------------+-------+\n",
      "only showing top 300 rows\n",
      "\n"
     ]
    }
   ],
   "source": [
    "predictions = cross_validated_model.transform(spark_df)\n",
    "predictions.select('prediction', 'area').show(300)"
   ]
  },
  {
   "cell_type": "markdown",
   "metadata": {},
   "source": [
    "Now let's go ahead and take a look at the feature importances of our random forest model. In order to do this, we need to unroll our pipeline to access the random forest model. Let's start by first checking out the `.bestModel` attribute of our `cross_validated_model`. "
   ]
  },
  {
   "cell_type": "code",
   "execution_count": 75,
   "metadata": {
    "slideshow": {
     "slide_type": "slide"
    }
   },
   "outputs": [
    {
     "data": {
      "text/plain": [
       "pyspark.ml.pipeline.PipelineModel"
      ]
     },
     "execution_count": 75,
     "metadata": {},
     "output_type": "execute_result"
    }
   ],
   "source": [
    "type(cross_validated_model.bestModel)"
   ]
  },
  {
   "cell_type": "markdown",
   "metadata": {},
   "source": [
    "`ml` is treating the entire pipeline as the best performing model, so we need to go deeper into the pipeline to access the random forest model within it. Previously, we put the random forest model as the final \"stage\" in the stages variable list. Let's look at the `.stages` attribute of the `.bestModel`."
   ]
  },
  {
   "cell_type": "code",
   "execution_count": 76,
   "metadata": {},
   "outputs": [
    {
     "data": {
      "text/plain": [
       "[StringIndexer_ca5165d325a5,\n",
       " OneHotEncoderEstimator_4eff1e91d933,\n",
       " VectorAssembler_fc27a856a1f2,\n",
       " RandomForestRegressionModel (uid=RandomForestRegressor_1e6b2d51e6ce) with 20 trees]"
      ]
     },
     "execution_count": 76,
     "metadata": {},
     "output_type": "execute_result"
    }
   ],
   "source": [
    "cross_validated_model.bestModel.stages"
   ]
  },
  {
   "cell_type": "markdown",
   "metadata": {},
   "source": [
    "Perfect! There's the RandomForestRegressionModel, represented by the last item in the stages list. Now, we should be able to access all the attributes of the random forest regressor."
   ]
  },
  {
   "cell_type": "code",
   "execution_count": 77,
   "metadata": {},
   "outputs": [],
   "source": [
    "optimal_rf_model = cross_validated_model.bestModel.stages[3]"
   ]
  },
  {
   "cell_type": "code",
   "execution_count": 78,
   "metadata": {},
   "outputs": [
    {
     "data": {
      "text/plain": [
       "SparseVector(22, {0: 0.0927, 1: 0.0863, 2: 0.196, 3: 0.0794, 4: 0.1363, 5: 0.0746, 6: 0.0919, 7: 0.1185, 8: 0.0719, 10: 0.0002, 11: 0.0415, 12: 0.0002, 13: 0.0095, 14: 0.0, 15: 0.0001, 16: 0.0, 17: 0.0007, 18: 0.0001, 20: 0.0})"
      ]
     },
     "execution_count": 78,
     "metadata": {},
     "output_type": "execute_result"
    }
   ],
   "source": [
    "optimal_rf_model.featureImportances"
   ]
  },
  {
   "cell_type": "code",
   "execution_count": 79,
   "metadata": {},
   "outputs": [
    {
     "data": {
      "text/plain": [
       "20"
      ]
     },
     "execution_count": 79,
     "metadata": {},
     "output_type": "execute_result"
    }
   ],
   "source": [
    "optimal_rf_model.getNumTrees"
   ]
  },
  {
   "cell_type": "markdown",
   "metadata": {},
   "source": [
    "## Summary\n",
    "\n",
    "In this lesson, you learned about PySpark's DataFrames, machine learning models, and pipelines. With the use of a pipeline, you can train a huge number of models simultaneously, saving you a substantial amount of time and effort. Up next, you will have a chance to build a PySpark machine learning pipeline of your own with a classification problem!"
   ]
  }
 ],
 "metadata": {
  "kernelspec": {
   "display_name": "Python 3",
   "language": "python",
   "name": "python3"
  },
  "language_info": {
   "codemirror_mode": {
    "name": "ipython",
    "version": 3
   },
   "file_extension": ".py",
   "mimetype": "text/x-python",
   "name": "python",
   "nbconvert_exporter": "python",
   "pygments_lexer": "ipython3",
   "version": "3.6.9"
  }
 },
 "nbformat": 4,
 "nbformat_minor": 2
}
